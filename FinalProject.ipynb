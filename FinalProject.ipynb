{
  "nbformat": 4,
  "nbformat_minor": 0,
  "metadata": {
    "colab": {
      "name": "FinalProject.ipynb",
      "provenance": [],
      "collapsed_sections": [],
      "include_colab_link": true
    },
    "kernelspec": {
      "name": "python3",
      "display_name": "Python 3"
    }
  },
  "cells": [
    {
      "cell_type": "markdown",
      "metadata": {
        "id": "view-in-github",
        "colab_type": "text"
      },
      "source": [
        "<a href=\"https://colab.research.google.com/github/administrator2992/pangan/blob/master/FinalProject.ipynb\" target=\"_parent\"><img src=\"https://colab.research.google.com/assets/colab-badge.svg\" alt=\"Open In Colab\"/></a>"
      ]
    },
    {
      "cell_type": "markdown",
      "metadata": {
        "id": "EPBC7oKQLwKX",
        "colab_type": "text"
      },
      "source": [
        "#Visualisasi Dataset Harga Pangan 2019 - 2020"
      ]
    },
    {
      "cell_type": "markdown",
      "metadata": {
        "id": "SkiiDWRkAx0o",
        "colab_type": "text"
      },
      "source": [
        "Anggota Kelompok : \n",
        "\n",
        "\n",
        "1.   Ahmad Naufal Labiib Nabhaan        (19.83.0357)     \n",
        "2.   Yohanes Ferdinand Unggul Pradiva   (19.83.0347)\n",
        "3.   Fajar Nur Aini Dwi Fatimah         (19.83.0402)\n",
        "\n",
        "---\n",
        "Tema  : Data Science\n",
        "\n",
        "\n",
        "\n",
        "\n",
        "\n"
      ]
    },
    {
      "cell_type": "markdown",
      "metadata": {
        "id": "O0LXYI61wMUo",
        "colab_type": "text"
      },
      "source": [
        "##Persiapan Dataset"
      ]
    },
    {
      "cell_type": "code",
      "metadata": {
        "id": "uowPnqgzL8Mw",
        "colab_type": "code",
        "colab": {}
      },
      "source": [
        "# import library\n",
        "import pandas as pd # library untuk ambil file csv dan plotting\n",
        "!git clone https://github.com/administrator2992/pangan.git"
      ],
      "execution_count": null,
      "outputs": []
    },
    {
      "cell_type": "markdown",
      "metadata": {
        "id": "3HwBFI1xjuMr",
        "colab_type": "text"
      },
      "source": [
        "Memanggil Dataset"
      ]
    },
    {
      "cell_type": "code",
      "metadata": {
        "id": "EG8MclBhk5Ue",
        "colab_type": "code",
        "colab": {}
      },
      "source": [
        "dt = pd.read_csv('/content/pangan/pangan_19_20.csv')"
      ],
      "execution_count": null,
      "outputs": []
    },
    {
      "cell_type": "markdown",
      "metadata": {
        "id": "dgOPeP2suslT",
        "colab_type": "text"
      },
      "source": [
        "Cek Head dataset dan key"
      ]
    },
    {
      "cell_type": "code",
      "metadata": {
        "id": "h5u3cV-SsmGG",
        "colab_type": "code",
        "colab": {}
      },
      "source": [
        "dt.head()"
      ],
      "execution_count": null,
      "outputs": []
    },
    {
      "cell_type": "code",
      "metadata": {
        "id": "AE2p4YBLXVmx",
        "colab_type": "code",
        "colab": {}
      },
      "source": [
        "dt.keys()"
      ],
      "execution_count": null,
      "outputs": []
    },
    {
      "cell_type": "markdown",
      "metadata": {
        "id": "n6FN0CbPzP4l",
        "colab_type": "text"
      },
      "source": [
        "##Visualisasi Data"
      ]
    },
    {
      "cell_type": "code",
      "metadata": {
        "id": "IQ4np_WoDcAv",
        "colab_type": "code",
        "colab": {}
      },
      "source": [
        "#Pilih salah satu key di atas untuk data yang di visualisasi\n",
        "Barang = 'Gula Pasir'"
      ],
      "execution_count": null,
      "outputs": []
    },
    {
      "cell_type": "code",
      "metadata": {
        "id": "eIjH6XOjmp0n",
        "colab_type": "code",
        "colab": {}
      },
      "source": [
        "dt.plot(kind='bar',figsize=(20, 6), title = 'Visualisasi Dataset 2019 - 2020', x='Date', y=Barang)"
      ],
      "execution_count": null,
      "outputs": []
    }
  ]
}